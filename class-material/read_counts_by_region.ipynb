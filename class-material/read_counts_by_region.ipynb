{
 "cells": [
  {
   "cell_type": "markdown",
   "metadata": {},
   "source": [
    "In this session, we are going to make practical use of what we just learned to explore a region of the genome, the RHD locus, which is responsible for the Rh antigen that can have an adverse effect during some pregnancies. This gene is located at chr1:25598977-25656936 in the hg19 version of the human genome reference sequence."
   ]
  },
  {
   "cell_type": "markdown",
   "metadata": {},
   "source": [
    "As with yesterday, set up imported packages and specific file locations"
   ]
  },
  {
   "cell_type": "code",
   "execution_count": 19,
   "metadata": {
    "collapsed": true
   },
   "outputs": [],
   "source": [
    "%matplotlib inline\n",
    "import matplotlib\n",
    "import matplotlib.pyplot as plt\n",
    "import numpy as np\n",
    "import subprocess\n",
    "import re\n",
    "from pylab import plot,show\n",
    "from scipy import stats\n",
    "import os\n",
    "\n",
    "baseDir='/scratch/biobootcamp_fluxod/remills/day4/read_counts_by_region'\n",
    "\n",
    "fnSampleInfo = '%s/%s'%( baseDir, 'sample_info.txt' )\n",
    "fnSampleList = '%s/%s'%( baseDir, 'sample_names.txt' )\n",
    "\n",
    "#define region of interest\n",
    "chromo = \"1\"\n",
    "startPos = 25598977\n",
    "endPos = 25656936\n",
    "region = \"1:25598977-25656936\" #format needed for calling samtools"
   ]
  },
  {
   "cell_type": "markdown",
   "metadata": {},
   "source": [
    "Let's take a quick look at the sample info file to check it's format"
   ]
  },
  {
   "cell_type": "code",
   "execution_count": 20,
   "metadata": {
    "collapsed": false
   },
   "outputs": [
    {
     "data": {
      "text/plain": [
       "['Sample',\n",
       " 'Family ID',\n",
       " 'Population',\n",
       " 'Population Description',\n",
       " 'Gender',\n",
       " 'File Path']"
      ]
     },
     "execution_count": 20,
     "metadata": {},
     "output_type": "execute_result"
    }
   ],
   "source": [
    "fileSampleInfo = open(fnSampleInfo,'r')\n",
    "line = fileSampleInfo.readline()\n",
    "fileSampleInfo.close()\n",
    "\n",
    "line = line.rstrip()\n",
    "line = line.split('\\t')\n",
    "line"
   ]
  },
  {
   "cell_type": "markdown",
   "metadata": {},
   "source": [
    "Notice that this file is different from the one we used yesterday. It now includes an additional column, 'File Path', which gives an absolute location to the alignment file for each respective sample. As with yesterday, let's define a function to read through the file line by line and store the data for each sample and its file location into a dictionary"
   ]
  },
  {
   "cell_type": "code",
   "execution_count": 21,
   "metadata": {
    "collapsed": true
   },
   "outputs": [],
   "source": [
    "def parseSampleTable( filename ):\n",
    "    fileSampTable = open(filename,'r')\n",
    "    \n",
    "    # skip past the file header\n",
    "    fileSampTable.readline()\n",
    "\n",
    "    samplePath={}\n",
    "    samplePop={}\n",
    "    \n",
    "    # go line by line\n",
    "    for line in fileSampTable:\n",
    "        line = line.rstrip().split('\\t')\n",
    "        samplePath[ line[0] ] = line[5]\n",
    "        samplePop[ line[0] ] = line[2]\n",
    "    return samplePath, samplePop"
   ]
  },
  {
   "cell_type": "markdown",
   "metadata": {},
   "source": [
    "Note how this function is almost identical to what we used yesterday. Reusing code is not only efficient but is recommended!"
   ]
  },
  {
   "cell_type": "code",
   "execution_count": 22,
   "metadata": {
    "collapsed": false
   },
   "outputs": [],
   "source": [
    "samplePath, samplePop = parseSampleTable( fnSampleInfo )"
   ]
  },
  {
   "cell_type": "code",
   "execution_count": 23,
   "metadata": {
    "collapsed": false
   },
   "outputs": [
    {
     "data": {
      "text/plain": [
       "'GBR'"
      ]
     },
     "execution_count": 23,
     "metadata": {},
     "output_type": "execute_result"
    }
   ],
   "source": [
    "#example\n",
    "sample = \"HG00112\"\n",
    "samplePath[sample]\n",
    "samplePop[sample]"
   ]
  },
  {
   "cell_type": "markdown",
   "metadata": {},
   "source": [
    "Our goal now is to count the sequence reads at the RHD locus from each file and compare them.  We can do this using the *samtools* command we learned yesterday combined with the unix command *wc -l* which will count the number of lines printed to thes screen. We can call this program from within python using the *subprocess.call()* function"
   ]
  },
  {
   "cell_type": "code",
   "execution_count": 24,
   "metadata": {
    "collapsed": false,
    "scrolled": true
   },
   "outputs": [
    {
     "name": "stdout",
     "output_type": "stream",
     "text": [
      "samtools view /scratch/data/1000genome/1000genomes/HG00112/alignment/HG00112.mapped.ILLUMINA.bwa.GBR.low_coverage.20120522.bam 1:25598977-25656936 | wc -l > HG00112.cnt\n"
     ]
    },
    {
     "data": {
      "text/plain": [
       "0"
      ]
     },
     "execution_count": 24,
     "metadata": {},
     "output_type": "execute_result"
    }
   ],
   "source": [
    "#construct command as if we would be running it from the command line. \n",
    "command = \"samtools view \" + samplePath[sample] + \" \" + region + \" | wc -l > \" + sample + \".cnt\"\n",
    "print command\n",
    "subprocess.call(command, shell=True)"
   ]
  },
  {
   "cell_type": "markdown",
   "metadata": {},
   "source": [
    "Each individual genome may be sequenced to different depths of coverage, leading to differences in read counts being a reflection of that depth rather than a true difference in sequence content. Thus, it would make sense to normalize by the total number of reads generated either for the whole genome or, as we will do here, for the chromosome of interest."
   ]
  },
  {
   "cell_type": "code",
   "execution_count": 25,
   "metadata": {
    "collapsed": false
   },
   "outputs": [
    {
     "name": "stdout",
     "output_type": "stream",
     "text": [
      "samtools idxstats /scratch/data/1000genome/1000genomes/HG00112/alignment/HG00112.mapped.ILLUMINA.bwa.GBR.low_coverage.20120522.bam | head -1 |cut -f 3 > HG00112.num\n"
     ]
    },
    {
     "data": {
      "text/plain": [
       "0"
      ]
     },
     "execution_count": 25,
     "metadata": {},
     "output_type": "execute_result"
    }
   ],
   "source": [
    "#Only need data for chromosome 1, so 'head -1' returns only the first line of the output that corresponds to chromo 1\n",
    "#Number of aligned reads is in column 3, so we can 'cut' this column out and be left with only a single data point\n",
    "command = \"samtools idxstats \" + samplePath[sample] + \" | head -1 |cut -f 3 > \" + sample + \".num\"\n",
    "print command\n",
    "subprocess.call(command, shell=True)"
   ]
  },
  {
   "cell_type": "markdown",
   "metadata": {},
   "source": [
    "However, with over 2500 sequences it would be inefficient (and boring!) to do all of them manually in this fashion. We could make use of cluster computing to run all 2500 simultaneously, however this would result in 2500 individual jobs that would need to be submitted, managed, and reviewed.\n",
    "\n",
    "Instead, we can *batch* samples into smaller collections and send each batch as its own job. To do this, we will need to determine both **(a)** the number of batches we wish to submit and **(b)** the number of samples to include in each batch. For this exercise, we will construct batches of n=50."
   ]
  },
  {
   "cell_type": "code",
   "execution_count": 26,
   "metadata": {
    "collapsed": false
   },
   "outputs": [
    {
     "name": "stdout",
     "output_type": "stream",
     "text": [
      "2535\n",
      "51\n"
     ]
    }
   ],
   "source": [
    "numBatches = 50\n",
    "#length of dictionary = number of samples here, can be calculated with len(dict)\n",
    "numSamplesPerBatch = int(len(samplePath) / numBatches) + 1; #add one to round up if needed\n",
    "\n",
    "#create a directory to store all the files\n",
    "if not os.path.exists(baseDir + \"/counts\"):\n",
    "    os.makedirs(baseDir + \"/counts\")\n",
    "\n",
    "#create a directory to store PBS files\n",
    "if not os.path.exists(baseDir + \"/jobs\"):\n",
    "    os.makedirs(baseDir + \"/jobs\") \n",
    "\n",
    "#create a directory to store stdout and stderr files\n",
    "if not os.path.exists(baseDir + \"/logs\"):\n",
    "    os.makedirs(baseDir + \"/logs\") \n",
    "\n",
    "print len(samplePath)\n",
    "print numSamplesPerBatch"
   ]
  },
  {
   "cell_type": "markdown",
   "metadata": {},
   "source": [
    "Then, we can use python to create individual PBS files for each batch and subsequently submit them to the cluster."
   ]
  },
  {
   "cell_type": "code",
   "execution_count": 32,
   "metadata": {
    "collapsed": false
   },
   "outputs": [],
   "source": [
    "lastSampleNum = 0;\n",
    "samples = samplePath.keys()\n",
    "\n",
    "for batchNum in range (numBatches): #for each batch we plan to run\n",
    "\n",
    "    #create new PBS file for submission, with corresponding header\n",
    "    fileBatch = open(baseDir+\"/jobs/batch\"+str(batchNum)+\".pbs\", \"w\")\n",
    "    fileBatch.write(\"#!/bin/bash\\n\") #shell line\n",
    "    fileBatch.write(\"#\\n\")\n",
    "    fileBatch.write(\"#PBS -N batch\" + str(batchNum) + \"\\n\") #name of job\n",
    "    fileBatch.write(\"#PBS -o \" + baseDir + \"/logs/batch\" + str(batchNum) + \".stdout\\n\") #stdout file\n",
    "    fileBatch.write(\"#PBS -e \" + baseDir + \"/logs/batch\" + str(batchNum) + \".stderr\\n\") #stderr file\n",
    "    fileBatch.write(\"#PBS -l procs=1,qos=flux,mem=4gb,walltime=24:00:00\\n\") #feature line\n",
    "    fileBatch.write(\"#PBS -m a\\n\") #message line, only send errors to email\n",
    "    fileBatch.write(\"#PBS -M remills@umich.edu\\n\") #email line, to send messages from above\n",
    "    fileBatch.write(\"#PBS -A biobootcamp_fluxod\\n\") #which account to associate job\n",
    "    fileBatch.write(\"#PBS -q fluxod\\n\") #which queue to send job to \n",
    "    fileBatch.write(\"#PBS -V\\n\") #pass environmental variables to job\n",
    "    fileBatch.write(\"#PBS -d .\\n\") #use current working directory\n",
    "    fileBatch.write(\"\\n\") #use current working directory\n",
    "    \n",
    "    startIndex = lastSampleNum\n",
    "    endIndex = lastSampleNum + numSamplesPerBatch\n",
    "    \n",
    "    #make sure last index is in range, in case batches aren't divided evenly\n",
    "    if endIndex > len(samplePath): \n",
    "        endIndex = len(samplePath)\n",
    "        \n",
    "    for sampleNum in range (startIndex, endIndex):\n",
    "        sample = samples[sampleNum] #current sample\n",
    "        #write command for region counts\n",
    "        command = \"samtools view \" + samplePath[sample] + \" \" + region + \" | wc -l > \" + baseDir + \"/counts/\" + sample + \".cnt\"\n",
    "        fileBatch.write(command+\"\\n\")\n",
    "        #write command for chromosome counts\n",
    "        command = \"samtools idxstats \" + samplePath[sample] + \" | head -1 | cut -f 3 > \" + baseDir + \"/counts/\" + sample + \".num\"\n",
    "        fileBatch.write(command+\"\\n\")\n",
    "    fileBatch.close()\n",
    "    \n",
    "    #submit job to cluster\n",
    "    subprocess.call([\"qsub\", baseDir+\"/jobs/batch\"+str(batchNum)+\".pbs\"]) \n",
    "    \n",
    "    #update index for next iteration\n",
    "    lastSampleNum = lastSampleNum + numSamplesPerBatch\n"
   ]
  },
  {
   "cell_type": "markdown",
   "metadata": {},
   "source": [
    "Now we must wait for the jobs to finish. There are python modules which will check and sleep until all jobs are finalized. For simplicity, we can just manually check with the *qstat* command you were introduced to earlier (use your unique name instead of mine!)."
   ]
  },
  {
   "cell_type": "code",
   "execution_count": 44,
   "metadata": {
    "collapsed": false,
    "scrolled": true
   },
   "outputs": [
    {
     "name": "stdout",
     "output_type": "stream",
     "text": [
      "\r\n",
      "nyx.arc-ts.umich.edu: \r\n",
      "                                                                                  Req'd    Req'd       Elap\r\n",
      "Job ID                  Username    Queue    Jobname          SessID  NDS   TSK   Memory   Time    S   Time\r\n",
      "----------------------- ----------- -------- ---------------- ------ ----- ------ ------ --------- - ---------\r\n",
      "16699387.nyx.arc-ts.um  remills     fluxod   batch0             2193   --       1  768mb  24:00:00 C       -- \r\n",
      "16699388.nyx.arc-ts.um  remills     fluxod   batch1             2197   --       1  768mb  24:00:00 C       -- \r\n",
      "16699389.nyx.arc-ts.um  remills     fluxod   batch2             2235   --       1  768mb  24:00:00 C       -- \r\n",
      "16699390.nyx.arc-ts.um  remills     fluxod   batch3             2266   --       1  768mb  24:00:00 C       -- \r\n",
      "16699391.nyx.arc-ts.um  remills     fluxod   batch4             2292   --       1  768mb  24:00:00 C       -- \r\n",
      "16699392.nyx.arc-ts.um  remills     fluxod   batch5             1791   --       1  768mb  24:00:00 C       -- \r\n",
      "16699393.nyx.arc-ts.um  remills     fluxod   batch6            30754   --       1  768mb  24:00:00 C       -- \r\n",
      "16699394.nyx.arc-ts.um  remills     fluxod   batch7            30760   --       1  768mb  24:00:00 C       -- \r\n",
      "16699395.nyx.arc-ts.um  remills     fluxod   batch8            30763   --       1  768mb  24:00:00 C       -- \r\n",
      "16699396.nyx.arc-ts.um  remills     fluxod   batch9            30766   --       1  768mb  24:00:00 C       -- \r\n",
      "16699397.nyx.arc-ts.um  remills     fluxod   batch10           30773   --       1  768mb  24:00:00 C       -- \r\n",
      "16699398.nyx.arc-ts.um  remills     fluxod   batch11           30857   --       1  768mb  24:00:00 C       -- \r\n",
      "16699399.nyx.arc-ts.um  remills     fluxod   batch12            1731   --       1  768mb  24:00:00 C       -- \r\n",
      "16699400.nyx.arc-ts.um  remills     fluxod   batch13            1736   --       1  768mb  24:00:00 C       -- \r\n",
      "16699401.nyx.arc-ts.um  remills     fluxod   batch14            1740   --       1  768mb  24:00:00 C       -- \r\n",
      "16699402.nyx.arc-ts.um  remills     fluxod   batch15            1743   --       1  768mb  24:00:00 C       -- \r\n",
      "16699403.nyx.arc-ts.um  remills     fluxod   batch16            1746   --       1  768mb  24:00:00 C       -- \r\n",
      "16699404.nyx.arc-ts.um  remills     fluxod   batch17            1801   --       1  768mb  24:00:00 C       -- \r\n",
      "16699405.nyx.arc-ts.um  remills     fluxod   batch18           16670   --       1  768mb  24:00:00 C       -- \r\n",
      "16699406.nyx.arc-ts.um  remills     fluxod   batch19           16674   --       1  768mb  24:00:00 C       -- \r\n",
      "16699407.nyx.arc-ts.um  remills     fluxod   batch20            3795   --       1  768mb  24:00:00 C       -- \r\n",
      "16699408.nyx.arc-ts.um  remills     fluxod   batch21           17830   --       1  768mb  24:00:00 C       -- \r\n",
      "16699409.nyx.arc-ts.um  remills     fluxod   batch22           17851   --       1  768mb  24:00:00 C       -- \r\n",
      "16699410.nyx.arc-ts.um  remills     fluxod   batch23           17877   --       1  768mb  24:00:00 C       -- \r\n",
      "16699411.nyx.arc-ts.um  remills     fluxod   batch24           17905   --       1  768mb  24:00:00 C       -- \r\n",
      "16699412.nyx.arc-ts.um  remills     fluxod   batch25           17253   --       1  768mb  24:00:00 C       -- \r\n",
      "16699413.nyx.arc-ts.um  remills     fluxod   batch26           17257   --       1  768mb  24:00:00 C       -- \r\n",
      "16699414.nyx.arc-ts.um  remills     fluxod   batch27           13141   --       1  768mb  24:00:00 C       -- \r\n",
      "16699415.nyx.arc-ts.um  remills     fluxod   batch28           13145   --       1  768mb  24:00:00 C       -- \r\n",
      "16699416.nyx.arc-ts.um  remills     fluxod   batch29           13150   --       1  768mb  24:00:00 C       -- \r\n",
      "16699417.nyx.arc-ts.um  remills     fluxod   batch30           13153   --       1  768mb  24:00:00 C       -- \r\n",
      "16699418.nyx.arc-ts.um  remills     fluxod   batch31           13156   --       1  768mb  24:00:00 C       -- \r\n",
      "16699419.nyx.arc-ts.um  remills     fluxod   batch32           13159   --       1  768mb  24:00:00 C       -- \r\n",
      "16699420.nyx.arc-ts.um  remills     fluxod   batch33           28909   --       1  768mb  24:00:00 C       -- \r\n",
      "16699421.nyx.arc-ts.um  remills     fluxod   batch34           28915   --       1  768mb  24:00:00 C       -- \r\n",
      "16699422.nyx.arc-ts.um  remills     fluxod   batch35           18975   --       1  768mb  24:00:00 C       -- \r\n",
      "16699423.nyx.arc-ts.um  remills     fluxod   batch36           18996   --       1  768mb  24:00:00 C       -- \r\n",
      "16699424.nyx.arc-ts.um  remills     fluxod   batch37            4656   --       1  768mb  24:00:00 C       -- \r\n",
      "16699425.nyx.arc-ts.um  remills     fluxod   batch38            4677   --       1  768mb  24:00:00 C       -- \r\n",
      "16699426.nyx.arc-ts.um  remills     fluxod   batch39            4703   --       1  768mb  24:00:00 C       -- \r\n",
      "16699427.nyx.arc-ts.um  remills     fluxod   batch40            3846   --       1  768mb  24:00:00 C       -- \r\n",
      "16699428.nyx.arc-ts.um  remills     fluxod   batch41            3867   --       1  768mb  24:00:00 C       -- \r\n",
      "16699429.nyx.arc-ts.um  remills     fluxod   batch42           32578   --       1  768mb  24:00:00 C       -- \r\n",
      "16699430.nyx.arc-ts.um  remills     fluxod   batch43           32598   --       1  768mb  24:00:00 C       -- \r\n",
      "16699431.nyx.arc-ts.um  remills     fluxod   batch44           32619   --       1  768mb  24:00:00 C       -- \r\n",
      "16699432.nyx.arc-ts.um  remills     fluxod   batch45           32641   --       1  768mb  24:00:00 C       -- \r\n",
      "16699433.nyx.arc-ts.um  remills     fluxod   batch46           32673   --       1  768mb  24:00:00 C       -- \r\n",
      "16699434.nyx.arc-ts.um  remills     fluxod   batch47           32699   --       1  768mb  24:00:00 C       -- \r\n",
      "16699435.nyx.arc-ts.um  remills     fluxod   batch48            3747   --       1  768mb  24:00:00 C       -- \r\n",
      "16699436.nyx.arc-ts.um  remills     fluxod   batch49            3760   --       1  768mb  24:00:00 C       -- \r\n"
     ]
    }
   ],
   "source": [
    "!qstat -u remills"
   ]
  },
  {
   "cell_type": "markdown",
   "metadata": {},
   "source": [
    "This might take a few minutes to run. Once completed, we should take the time to do some quick checks of the stderr files to make sure that there were not  issues with any particular batch. This can be as simple as a quick *cat* of all the stderr files to see if anything is there. The lack of errors sent to your email address is also a sign that things went well."
   ]
  },
  {
   "cell_type": "code",
   "execution_count": 45,
   "metadata": {
    "collapsed": false
   },
   "outputs": [
    {
     "name": "stdout",
     "output_type": "stream",
     "text": [
      "Note well:\n",
      "\n",
      "loading openmpi/1.6.0/gcc/4.4.6 and gcc/4.4.6 for Rmpi/snow\n",
      "\n",
      "Note well:\n",
      "\n",
      "loading openmpi/1.6.0/gcc/4.4.6 and gcc/4.4.6 for Rmpi/snow\n",
      "\n",
      "Note well:\n",
      "\n",
      "loading openmpi/1.6.0/gcc/4.4.6 and gcc/4.4.6 for Rmpi/snow\n",
      "\n",
      "Note well:\n",
      "\n",
      "loading openmpi/1.6.0/gcc/4.4.6 and gcc/4.4.6 for Rmpi/snow\n",
      "\n",
      "Note well:\n",
      "\n",
      "loading openmpi/1.6.0/gcc/4.4.6 and gcc/4.4.6 for Rmpi/snow\n",
      "\n",
      "Note well:\n",
      "\n",
      "loading openmpi/1.6.0/gcc/4.4.6 and gcc/4.4.6 for Rmpi/snow\n",
      "\n",
      "Note well:\n",
      "\n",
      "loading openmpi/1.6.0/gcc/4.4.6 and gcc/4.4.6 for Rmpi/snow\n",
      "\n",
      "Note well:\n",
      "\n",
      "loading openmpi/1.6.0/gcc/4.4.6 and gcc/4.4.6 for Rmpi/snow\n",
      "\n",
      "Note well:\n",
      "\n",
      "loading openmpi/1.6.0/gcc/4.4.6 and gcc/4.4.6 for Rmpi/snow\n",
      "\n",
      "Note well:\n",
      "\n",
      "loading openmpi/1.6.0/gcc/4.4.6 and gcc/4.4.6 for Rmpi/snow\n",
      "\n",
      "Note well:\n",
      "\n",
      "loading openmpi/1.6.0/gcc/4.4.6 and gcc/4.4.6 for Rmpi/snow\n",
      "\n",
      "Note well:\n",
      "\n",
      "loading openmpi/1.6.0/gcc/4.4.6 and gcc/4.4.6 for Rmpi/snow\n",
      "\n",
      "Note well:\n",
      "\n",
      "loading openmpi/1.6.0/gcc/4.4.6 and gcc/4.4.6 for Rmpi/snow\n",
      "\n",
      "Note well:\n",
      "\n",
      "loading openmpi/1.6.0/gcc/4.4.6 and gcc/4.4.6 for Rmpi/snow\n",
      "\n",
      "Note well:\n",
      "\n",
      "loading openmpi/1.6.0/gcc/4.4.6 and gcc/4.4.6 for Rmpi/snow\n",
      "\n",
      "Note well:\n",
      "\n",
      "loading openmpi/1.6.0/gcc/4.4.6 and gcc/4.4.6 for Rmpi/snow\n",
      "\n",
      "Note well:\n",
      "\n",
      "loading openmpi/1.6.0/gcc/4.4.6 and gcc/4.4.6 for Rmpi/snow\n",
      "\n",
      "Note well:\n",
      "\n",
      "loading openmpi/1.6.0/gcc/4.4.6 and gcc/4.4.6 for Rmpi/snow\n",
      "\n",
      "Note well:\n",
      "\n",
      "loading openmpi/1.6.0/gcc/4.4.6 and gcc/4.4.6 for Rmpi/snow\n",
      "\n",
      "Note well:\n",
      "\n",
      "loading openmpi/1.6.0/gcc/4.4.6 and gcc/4.4.6 for Rmpi/snow\n",
      "\n",
      "Note well:\n",
      "\n",
      "loading openmpi/1.6.0/gcc/4.4.6 and gcc/4.4.6 for Rmpi/snow\n",
      "\n",
      "Note well:\n",
      "\n",
      "loading openmpi/1.6.0/gcc/4.4.6 and gcc/4.4.6 for Rmpi/snow\n",
      "\n",
      "Note well:\n",
      "\n",
      "loading openmpi/1.6.0/gcc/4.4.6 and gcc/4.4.6 for Rmpi/snow\n",
      "\n",
      "Note well:\n",
      "\n",
      "loading openmpi/1.6.0/gcc/4.4.6 and gcc/4.4.6 for Rmpi/snow\n",
      "\n",
      "Note well:\n",
      "\n",
      "loading openmpi/1.6.0/gcc/4.4.6 and gcc/4.4.6 for Rmpi/snow\n",
      "\n",
      "Note well:\n",
      "\n",
      "loading openmpi/1.6.0/gcc/4.4.6 and gcc/4.4.6 for Rmpi/snow\n",
      "\n",
      "Note well:\n",
      "\n",
      "loading openmpi/1.6.0/gcc/4.4.6 and gcc/4.4.6 for Rmpi/snow\n",
      "\n",
      "Note well:\n",
      "\n",
      "loading openmpi/1.6.0/gcc/4.4.6 and gcc/4.4.6 for Rmpi/snow\n",
      "\n",
      "Note well:\n",
      "\n",
      "loading openmpi/1.6.0/gcc/4.4.6 and gcc/4.4.6 for Rmpi/snow\n",
      "\n",
      "Note well:\n",
      "\n",
      "loading openmpi/1.6.0/gcc/4.4.6 and gcc/4.4.6 for Rmpi/snow\n",
      "\n",
      "Note well:\n",
      "\n",
      "loading openmpi/1.6.0/gcc/4.4.6 and gcc/4.4.6 for Rmpi/snow\n",
      "\n",
      "Note well:\n",
      "\n",
      "loading openmpi/1.6.0/gcc/4.4.6 and gcc/4.4.6 for Rmpi/snow\n",
      "\n",
      "Note well:\n",
      "\n",
      "loading openmpi/1.6.0/gcc/4.4.6 and gcc/4.4.6 for Rmpi/snow\n",
      "\n",
      "Note well:\n",
      "\n",
      "loading openmpi/1.6.0/gcc/4.4.6 and gcc/4.4.6 for Rmpi/snow\n",
      "\n",
      "Note well:\n",
      "\n",
      "loading openmpi/1.6.0/gcc/4.4.6 and gcc/4.4.6 for Rmpi/snow\n",
      "\n",
      "Note well:\n",
      "\n",
      "loading openmpi/1.6.0/gcc/4.4.6 and gcc/4.4.6 for Rmpi/snow\n",
      "\n",
      "Note well:\n",
      "\n",
      "loading openmpi/1.6.0/gcc/4.4.6 and gcc/4.4.6 for Rmpi/snow\n",
      "\n",
      "Note well:\n",
      "\n",
      "loading openmpi/1.6.0/gcc/4.4.6 and gcc/4.4.6 for Rmpi/snow\n",
      "\n",
      "Note well:\n",
      "\n",
      "loading openmpi/1.6.0/gcc/4.4.6 and gcc/4.4.6 for Rmpi/snow\n",
      "\n",
      "Note well:\n",
      "\n",
      "loading openmpi/1.6.0/gcc/4.4.6 and gcc/4.4.6 for Rmpi/snow\n",
      "\n",
      "Note well:\n",
      "\n",
      "loading openmpi/1.6.0/gcc/4.4.6 and gcc/4.4.6 for Rmpi/snow\n",
      "\n",
      "Note well:\n",
      "\n",
      "loading openmpi/1.6.0/gcc/4.4.6 and gcc/4.4.6 for Rmpi/snow\n",
      "\n",
      "Note well:\n",
      "\n",
      "loading openmpi/1.6.0/gcc/4.4.6 and gcc/4.4.6 for Rmpi/snow\n",
      "\n",
      "Note well:\n",
      "\n",
      "loading openmpi/1.6.0/gcc/4.4.6 and gcc/4.4.6 for Rmpi/snow\n",
      "\n",
      "Note well:\n",
      "\n",
      "loading openmpi/1.6.0/gcc/4.4.6 and gcc/4.4.6 for Rmpi/snow\n",
      "\n",
      "Note well:\n",
      "\n",
      "loading openmpi/1.6.0/gcc/4.4.6 and gcc/4.4.6 for Rmpi/snow\n",
      "\n",
      "Note well:\n",
      "\n",
      "loading openmpi/1.6.0/gcc/4.4.6 and gcc/4.4.6 for Rmpi/snow\n",
      "\n",
      "Note well:\n",
      "\n",
      "loading openmpi/1.6.0/gcc/4.4.6 and gcc/4.4.6 for Rmpi/snow\n",
      "\n",
      "Note well:\n",
      "\n",
      "loading openmpi/1.6.0/gcc/4.4.6 and gcc/4.4.6 for Rmpi/snow\n",
      "\n",
      "Note well:\n",
      "\n",
      "loading openmpi/1.6.0/gcc/4.4.6 and gcc/4.4.6 for Rmpi/snow\n",
      "\n"
     ]
    }
   ],
   "source": [
    "!cat {baseDir}/logs/*stderr"
   ]
  },
  {
   "cell_type": "markdown",
   "metadata": {},
   "source": [
    "Now, we can use python to read back in all the output files and construct a normalized list of sequence counts"
   ]
  },
  {
   "cell_type": "code",
   "execution_count": 46,
   "metadata": {
    "collapsed": false
   },
   "outputs": [],
   "source": [
    "samples = samplePath.keys()\n",
    "rhdList = []\n",
    "for sample in samples:\n",
    "    #rhd counts\n",
    "    cntFile = open(baseDir + \"/counts/\" + sample + \".cnt\", \"r\")\n",
    "    cnt = cntFile.readline()\n",
    "    cnt = float(cnt.rstrip()) #float is important, otherwise will treat as STR or INT\n",
    "    cntFile.close()\n",
    "    \n",
    "    #chromo 1 counts\n",
    "    numFile = open(baseDir + \"/counts/\" + sample + \".num\", \"r\")\n",
    "    num = numFile.readline()\n",
    "    num = float(num.rstrip())\n",
    "    numFile.close()\n",
    "    \n",
    "    normCnt = 1e3 * (cnt / num) #scale for plotting\n",
    "    rhdList.append(normCnt)\n"
   ]
  },
  {
   "cell_type": "code",
   "execution_count": 47,
   "metadata": {
    "collapsed": false
   },
   "outputs": [
    {
     "data": {
      "image/png": "[encoded data removed]",
      "text/plain": [
       "<matplotlib.figure.Figure at 0x2b05d7037a10>"
      ]
     },
     "metadata": {},
     "output_type": "display_data"
    }
   ],
   "source": [
    "plt.hist(rhdList, bins=100)\n",
    "plt.title(\"RHD Locus Read Counts\")\n",
    "plt.xlabel(\"Sequence Read Counts\")\n",
    "plt.ylabel(\"Frequency\")\n",
    "plt.show()"
   ]
  },
  {
   "cell_type": "markdown",
   "metadata": {
    "collapsed": true
   },
   "source": [
    "These results suggest that there are 3 classes of individuals with regards to the amount of sequence present at the RHD locus. What do you think those classes are?"
   ]
  },
  {
   "cell_type": "markdown",
   "metadata": {},
   "source": [
    "Perhaps we are interested in a particular populations of individuals. If you recall from above, we also constructed a dictionary of populations from our sample info file. We can use python to print out all the unique values from that dictionary"
   ]
  },
  {
   "cell_type": "code",
   "execution_count": 49,
   "metadata": {
    "collapsed": false
   },
   "outputs": [
    {
     "name": "stdout",
     "output_type": "stream",
     "text": [
      "set(['ACB', 'CLM', 'BEB', 'PEL', 'LWK', 'MSL', 'GBR', 'IBS', 'ASW', 'TSI', 'KHV', 'CEU', 'YRI', 'CHB', 'GWD', 'STU', 'CHS', 'ESN', 'FIN', 'GIH', 'PJL', 'MXL', 'ITU', 'CDX', 'JPT', 'PUR'])\n"
     ]
    }
   ],
   "source": [
    "s = set( val for dic in samplePop for val in samplePop.values())\n",
    "print s"
   ]
  },
  {
   "cell_type": "code",
   "execution_count": null,
   "metadata": {
    "collapsed": true
   },
   "outputs": [],
   "source": []
  },
  {
   "cell_type": "markdown",
   "metadata": {},
   "source": [
    "Let's focus in on the CEU and JPT populations. We can re-use the code from above, adding in a simple check to whether the population for a sample matches these values"
   ]
  },
  {
   "cell_type": "code",
   "execution_count": 54,
   "metadata": {
    "collapsed": true
   },
   "outputs": [],
   "source": [
    "samples = samplePath.keys()\n",
    "rhdListCEU = []\n",
    "rhdListJPT = []\n",
    "\n",
    "for sample in samples:\n",
    "        \n",
    "    #rhd counts\n",
    "    cntFile = open(baseDir + \"/counts/\" + sample + \".cnt\", \"r\")\n",
    "    cnt = cntFile.readline()\n",
    "    cnt = float(cnt.rstrip()) #float is important, otherwise will treat as STR or INT\n",
    "    cntFile.close()\n",
    "    \n",
    "    #chromo 1 counts\n",
    "    numFile = open(baseDir + \"/counts/\" + sample + \".num\", \"r\")\n",
    "    num = numFile.readline()\n",
    "    num = float(num.rstrip())\n",
    "    numFile.close()\n",
    "    \n",
    "    normCnt = 1e3 * (cnt / num) #scale for plotting\n",
    "    if samplePop[sample] == \"CEU\": \n",
    "        rhdListCEU.append(normCnt)\n",
    "    if samplePop[sample] == \"JPT\": \n",
    "        rhdListJPT.append(normCnt)    "
   ]
  },
  {
   "cell_type": "code",
   "execution_count": 57,
   "metadata": {
    "collapsed": false
   },
   "outputs": [
    {
     "data": {
      "image/png": "[encoded data removed]",
      "text/plain": [
       "<matplotlib.figure.Figure at 0x2b05d7f70dd0>"
      ]
     },
     "metadata": {},
     "output_type": "display_data"
    },
    {
     "data": {
      "image/png": "[encoded data removed]",
      "text/plain": [
       "<matplotlib.figure.Figure at 0x2b05d7597c10>"
      ]
     },
     "metadata": {},
     "output_type": "display_data"
    }
   ],
   "source": [
    "plt.hist(rhdListCEU, bins=100)\n",
    "plt.title(\"RHD Locus Read Counts (CEU)\")\n",
    "plt.xlabel(\"Sequence Read Counts\")\n",
    "plt.ylabel(\"Frequency\")\n",
    "plt.axis([0, 0.5, 0, 10]) #put on same axis\n",
    "plt.show()\n",
    "\n",
    "plt.hist(rhdListJPT, bins=100)\n",
    "plt.title(\"RHD Locus Read Counts (JPT)\")\n",
    "plt.xlabel(\"Sequence Read Counts\")\n",
    "plt.ylabel(\"Frequency\")\n",
    "plt.axis([0, 0.5, 0, 10])\n",
    "plt.show()"
   ]
  }
 ],
 "metadata": {
  "kernelspec": {
   "display_name": "Python 2",
   "language": "python",
   "name": "python2"
  },
  "language_info": {
   "codemirror_mode": {
    "name": "ipython",
    "version": 2
   },
   "file_extension": ".py",
   "mimetype": "text/x-python",
   "name": "python",
   "nbconvert_exporter": "python",
   "pygments_lexer": "ipython2",
   "version": "2.7.10"
  }
 },
 "nbformat": 4,
 "nbformat_minor": 0
}
